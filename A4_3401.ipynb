{
  "nbformat": 4,
  "nbformat_minor": 0,
  "metadata": {
    "colab": {
      "provenance": []
    },
    "kernelspec": {
      "name": "python3",
      "display_name": "Python 3"
    },
    "language_info": {
      "name": "python"
    }
  },
  "cells": [
    {
      "cell_type": "code",
      "source": [
        "import numpy as np\n",
        "import tensorflow as tf\n",
        "import matplotlib.pyplot as plt\n",
        "import pandas as pd\n",
        "from tensorflow.keras.models import Sequential\n",
        "from tensorflow.keras.layers import Dense\n",
        "from sklearn.model_selection import train_test_split\n",
        "from sklearn.preprocessing import RobustScaler\n",
        "from tensorflow.keras.layers import Dense, Dropout"
      ],
      "metadata": {
        "id": "ItuK0ec9TX3q"
      },
      "execution_count": null,
      "outputs": []
    },
    {
      "cell_type": "markdown",
      "source": [
        "Step 1: Load the Data"
      ],
      "metadata": {
        "id": "rcLuq8M14ZD4"
      }
    },
    {
      "cell_type": "code",
      "execution_count": null,
      "metadata": {
        "colab": {
          "base_uri": "https://localhost:8080/"
        },
        "id": "EsJ4MCXyScwM",
        "outputId": "acf3d51c-5c03-4bbe-b433-23ca5fc6fea5"
      },
      "outputs": [
        {
          "output_type": "execute_result",
          "data": {
            "text/plain": [
              "(   Feature_1  Feature_2  Feature_3  Feature_4  Feature_5  Feature_6  \\\n",
              " 0       3289         22         19        240         93       1708   \n",
              " 1       2963         21         18        134         27       1243   \n",
              " 2       3037        185          9        127         10       6462   \n",
              " 3       3113        203         13        190         22       2125   \n",
              " 4       3128        346          9        120         36        552   \n",
              " \n",
              "    Feature_7  Feature_8  Feature_9  Feature_10  ...  Feature_46  Feature_47  \\\n",
              " 0        205        196        122        2598  ...           0           1   \n",
              " 1        206        200        127        1140  ...           0           0   \n",
              " 2        222        246        158        3037  ...           0           0   \n",
              " 3        213        251        171         730  ...           1           0   \n",
              " 4        203        226        161         924  ...           0           0   \n",
              " \n",
              "    Feature_48  Feature_49  Feature_50  Feature_51  Feature_52  Feature_53  \\\n",
              " 0           0           0           0           0           0           0   \n",
              " 1           0           0           0           0           0           0   \n",
              " 2           0           0           0           0           0           0   \n",
              " 3           0           0           0           0           0           0   \n",
              " 4           0           0           0           0           0           0   \n",
              " \n",
              "    Feature_54  Target  \n",
              " 0           0       1  \n",
              " 1           0       1  \n",
              " 2           0       2  \n",
              " 3           0       2  \n",
              " 4           0       1  \n",
              " \n",
              " [5 rows x 55 columns],\n",
              " (464809, 55))"
            ]
          },
          "metadata": {},
          "execution_count": 16
        }
      ],
      "source": [
        "\n",
        "\n",
        "# Load the dataset\n",
        "train_df = pd.read_csv('train.csv')\n",
        "\n",
        "# Display the first few rows of the dataframe\n",
        "train_df.head(), train_df.shape\n"
      ]
    },
    {
      "cell_type": "markdown",
      "source": [
        "Step 2: Split the Data into Features (X) and Target (Y)\n",
        "\n",
        "Markdown explanation:\n",
        "The rationale behind separating features from the target in machine learning.\n",
        "\n",
        "Spliting data into Features and Target clarifies what the model learns from (features) and what it aims to predict (target).This separation structures the training process, teaching the model to use features to predict the target. Helps the model learn to predict new, unseen data, not just memorize the training set.It enables us to assess the model's performance by comparing its predictions (based on features) to the actual target values."
      ],
      "metadata": {
        "id": "bpCoo5a15dD7"
      }
    },
    {
      "cell_type": "code",
      "source": [
        "# Split the data into features and target variable\n",
        "X = train_df.drop('Target', axis=1)  # Features\n",
        "Y = train_df['Target'] - 1  # Adjusting labels to start from 0\n",
        "\n",
        "# Initialize the StandardScaler and transform the features\n",
        "scaler = RobustScaler()\n",
        "X_scaled = scaler.fit_transform(X)\n",
        "\n"
      ],
      "metadata": {
        "id": "H-lZaSW7THnz"
      },
      "execution_count": null,
      "outputs": []
    },
    {
      "cell_type": "markdown",
      "source": [
        "Step 3: Data Splitting\n",
        "\n",
        "Markdown explanation:\n",
        "The importance of having training and test datasets in model evaluation.\n",
        "\n",
        "**Testing Real-World Performance:** The training set is used to teach the model, while the test set helps evaluate how well it can predict new, unseen data. This split mimics real-world scenarios, ensuring the model performs well not just on familiar data but also on future data it hasn't encountered.\n",
        "\n",
        "**Preventing Overfitting:** Overfitting happens when a model learns from the training data too closely, including its noise, and fails to generalize to new data. By testing the model on a separate dataset it hasn't seen before, we can check for overfitting and ensure our model can make accurate predictions broadly."
      ],
      "metadata": {
        "id": "a304av5c7P2i"
      }
    },
    {
      "cell_type": "code",
      "source": [
        "from sklearn.model_selection import train_test_split\n",
        "\n",
        "# Splitting the scaled dataset into training and test sets\n",
        "X_train, X_test, Y_train, Y_test = train_test_split(X_scaled, Y, test_size=0.2, random_state=42)\n"
      ],
      "metadata": {
        "id": "uHzBB4M-Toa5"
      },
      "execution_count": null,
      "outputs": []
    },
    {
      "cell_type": "markdown",
      "source": [
        "Step 4: Build the Neural Network Model\n",
        "\n",
        "Markdown explanation:\n",
        "This neural network model is designed for a multi-class classification task, structured to effectively handle datasets with a varied number of features and classes.\n",
        "\n",
        "Model Structure:\n",
        "Input Layer: The first layer is a Dense layer with 128 neurons, configured to accept input with a shape matching the number of features in the dataset. This layer is crucial for initially processing the input data.\n",
        "\n",
        "Hidden Layers: Following the input layer, the model includes two additional Dense layers, one with 64 neurons and another with 32 neurons. These layers increase the model's capacity to learn from the data by extracting higher-level features and relationships.\n",
        "\n",
        "Output Layer: The final layer is a Dense layer with a number of neurons equal to the number of unique classes in the target variable. This layer uses the softmax activation function to output a probability distribution across all classes.\n",
        "For activation function i have choose ReLu and softmax.Reasone behind choosing:\n",
        "The ReLU activation function is selected for its simplicity and performance benefits. It introduces non-linearity to the model without significantly impacting the computational cost, making it ideal for training deep neural networks.\n",
        "\n",
        "The softmax activation function is critical for multi-class classification problems. By converting the model's logits to probabilities, softmax allows for a direct comparison between classes, facilitating the selection of the most likely class for each input.\n",
        "\n",
        "The adam optimizer is choosen for better optimization.\n",
        "\n",
        "\n"
      ],
      "metadata": {
        "id": "w2iwz4Er9ZnT"
      }
    },
    {
      "cell_type": "code",
      "source": [
        "from tensorflow import keras\n",
        "from tensorflow.keras import layers\n",
        "from tensorflow.keras.optimizers import Adam\n",
        "\n",
        "custom_lr = 1e-2\n",
        "optimizer = Adam(learning_rate=custom_lr)\n",
        "\n",
        "\n",
        "# Determine the number of unique classes for the output layer\n",
        "num_classes = Y.nunique()\n",
        "\n",
        "# Building the neural network model\n",
        "model = Sequential([\n",
        "    Dense(256, activation='relu', input_shape=(X_train.shape[1],)),\n",
        "    Dropout(0.3),  # Dropout layer to prevent overfitting\n",
        "    Dense(128, activation='relu'),\n",
        "    Dropout(0.3),\n",
        "    Dense(64, activation='relu'),\n",
        "    Dense(num_classes, activation='softmax')  # Configured for multi-class classification\n",
        "])\n",
        "\n",
        "model.compile(optimizer='adam',\n",
        "              loss='sparse_categorical_crossentropy',\n",
        "              metrics=['accuracy'])\n",
        "\n",
        "model.summary()\n"
      ],
      "metadata": {
        "colab": {
          "base_uri": "https://localhost:8080/"
        },
        "id": "QumxkAEiTtsf",
        "outputId": "b2a68928-3da4-4230-93bc-ca2cc525f9e3"
      },
      "execution_count": null,
      "outputs": [
        {
          "output_type": "stream",
          "name": "stdout",
          "text": [
            "Model: \"sequential_3\"\n",
            "_________________________________________________________________\n",
            " Layer (type)                Output Shape              Param #   \n",
            "=================================================================\n",
            " dense_12 (Dense)            (None, 256)               14080     \n",
            "                                                                 \n",
            " dropout_6 (Dropout)         (None, 256)               0         \n",
            "                                                                 \n",
            " dense_13 (Dense)            (None, 128)               32896     \n",
            "                                                                 \n",
            " dropout_7 (Dropout)         (None, 128)               0         \n",
            "                                                                 \n",
            " dense_14 (Dense)            (None, 64)                8256      \n",
            "                                                                 \n",
            " dense_15 (Dense)            (None, 7)                 455       \n",
            "                                                                 \n",
            "=================================================================\n",
            "Total params: 55687 (217.53 KB)\n",
            "Trainable params: 55687 (217.53 KB)\n",
            "Non-trainable params: 0 (0.00 Byte)\n",
            "_________________________________________________________________\n"
          ]
        }
      ]
    },
    {
      "cell_type": "markdown",
      "source": [
        "Step 5: Train the Model\n",
        "\n",
        "The adam optimizer is choosen for better optimization.Adam is favored for its efficiency and effectiveness in practice. It combines the best properties of the AdaGrad and RMSProp algorithms to handle sparse gradients on noisy problems.\n",
        "\n",
        "For the loss function \"Sparse Categorical Crossentropy\" is choosen.This loss function is ideal for multi-class classification problems where each instance is supposed to belong to a single class out of many possible classes, and the labels are integers.I It's particularly useful when dealing with a large number of classes."
      ],
      "metadata": {
        "id": "-DYqFbXmByF1"
      }
    },
    {
      "cell_type": "code",
      "source": [
        "# Train the model with the adjusted labels\n",
        "history = model.fit(X_train, Y_train, epochs=25, batch_size=32)\n",
        "\n",
        "# Evaluate the model on the test set\n",
        "test_loss, test_acc = model.evaluate(X_test, Y_test)\n",
        "print(f\"Test Accuracy: {test_acc:.4f}\")"
      ],
      "metadata": {
        "id": "Xh37SPajT8pQ",
        "outputId": "9f50ee8b-12d7-4a01-ca63-b4ee07ea5570",
        "colab": {
          "base_uri": "https://localhost:8080/"
        }
      },
      "execution_count": null,
      "outputs": [
        {
          "output_type": "stream",
          "name": "stdout",
          "text": [
            "Epoch 1/25\n",
            "11621/11621 [==============================] - 37s 3ms/step - loss: 0.3730 - accuracy: 0.8446\n",
            "Epoch 2/25\n",
            "11621/11621 [==============================] - 35s 3ms/step - loss: 0.3695 - accuracy: 0.8467\n",
            "Epoch 3/25\n",
            "11621/11621 [==============================] - 32s 3ms/step - loss: 0.3663 - accuracy: 0.8483\n",
            "Epoch 4/25\n",
            "11621/11621 [==============================] - 32s 3ms/step - loss: 0.3632 - accuracy: 0.8494\n",
            "Epoch 5/25\n",
            "11621/11621 [==============================] - 30s 3ms/step - loss: 0.3615 - accuracy: 0.8501\n",
            "Epoch 6/25\n",
            "11621/11621 [==============================] - 29s 3ms/step - loss: 0.3583 - accuracy: 0.8514\n",
            "Epoch 7/25\n",
            "11621/11621 [==============================] - 27s 2ms/step - loss: 0.3560 - accuracy: 0.8533\n",
            "Epoch 8/25\n",
            "11621/11621 [==============================] - 27s 2ms/step - loss: 0.3543 - accuracy: 0.8542\n",
            "Epoch 9/25\n",
            "11621/11621 [==============================] - 27s 2ms/step - loss: 0.3517 - accuracy: 0.8554\n",
            "Epoch 10/25\n",
            "11621/11621 [==============================] - 28s 2ms/step - loss: 0.3503 - accuracy: 0.8557\n",
            "Epoch 11/25\n",
            "11621/11621 [==============================] - 33s 3ms/step - loss: 0.3482 - accuracy: 0.8561\n",
            "Epoch 12/25\n",
            "11621/11621 [==============================] - 38s 3ms/step - loss: 0.3473 - accuracy: 0.8570\n",
            "Epoch 13/25\n",
            "11621/11621 [==============================] - 37s 3ms/step - loss: 0.3469 - accuracy: 0.8572\n",
            "Epoch 14/25\n",
            "11621/11621 [==============================] - 33s 3ms/step - loss: 0.3438 - accuracy: 0.8589\n",
            "Epoch 15/25\n",
            "11621/11621 [==============================] - 29s 2ms/step - loss: 0.3439 - accuracy: 0.8589\n",
            "Epoch 16/25\n",
            "11621/11621 [==============================] - 29s 3ms/step - loss: 0.3414 - accuracy: 0.8598\n",
            "Epoch 17/25\n",
            "11621/11621 [==============================] - 30s 3ms/step - loss: 0.3406 - accuracy: 0.8604\n",
            "Epoch 18/25\n",
            "11621/11621 [==============================] - 30s 3ms/step - loss: 0.3409 - accuracy: 0.8606\n",
            "Epoch 19/25\n",
            "11621/11621 [==============================] - 34s 3ms/step - loss: 0.3396 - accuracy: 0.8610\n",
            "Epoch 20/25\n",
            "11621/11621 [==============================] - 33s 3ms/step - loss: 0.3387 - accuracy: 0.8618\n",
            "Epoch 21/25\n",
            "11621/11621 [==============================] - 33s 3ms/step - loss: 0.3378 - accuracy: 0.8616\n",
            "Epoch 22/25\n",
            "11621/11621 [==============================] - 35s 3ms/step - loss: 0.3361 - accuracy: 0.8628\n",
            "Epoch 23/25\n",
            "11621/11621 [==============================] - 35s 3ms/step - loss: 0.3353 - accuracy: 0.8622\n",
            "Epoch 24/25\n",
            "11621/11621 [==============================] - 29s 2ms/step - loss: 0.3346 - accuracy: 0.8629\n",
            "Epoch 25/25\n",
            "11621/11621 [==============================] - 29s 3ms/step - loss: 0.3345 - accuracy: 0.8636\n",
            "2906/2906 [==============================] - 4s 1ms/step - loss: 0.2534 - accuracy: 0.9002\n",
            "Test Accuracy: 0.9002\n"
          ]
        }
      ]
    },
    {
      "cell_type": "markdown",
      "source": [
        "Step 6: Model Evaluation"
      ],
      "metadata": {
        "id": "c-q9AlsLHZVN"
      }
    },
    {
      "cell_type": "code",
      "source": [
        "# Evaluate the model on the test set\n",
        "# Adjust the test labels to start from 0\n",
        "Y_test_adjusted = Y_test - 1\n",
        "\n",
        "# Evaluate your model's performance with the adjusted labels\n",
        "loss, accuracy = model.evaluate(X_test, Y_test)\n",
        "print(f\"Model test accuracy: {accuracy:.2f}\")\n",
        "print(f\"Model test loss: {loss:.2f}\")\n",
        "\n",
        "plt.plot(history.history['accuracy'])\n",
        "plt.title('Model Accuracy')\n",
        "plt.xlabel('Epoch')\n",
        "plt.ylabel('Accuracy')\n",
        "plt.show()\n",
        "\n",
        "\n",
        "\n"
      ],
      "metadata": {
        "colab": {
          "base_uri": "https://localhost:8080/",
          "height": 524
        },
        "id": "1ppuluOVHa6B",
        "outputId": "b20f2e1f-07cc-42df-9ac8-c60455121044"
      },
      "execution_count": null,
      "outputs": [
        {
          "output_type": "stream",
          "name": "stdout",
          "text": [
            "2906/2906 [==============================] - 10s 3ms/step - loss: 0.2534 - accuracy: 0.9002\n",
            "Model test accuracy: 0.90\n",
            "Model test loss: 0.25\n"
          ]
        },
        {
          "output_type": "display_data",
          "data": {
            "text/plain": [
              "<Figure size 640x480 with 1 Axes>"
            ],
            "image/png": "[encoded data removed]"
          },
          "metadata": {}
        }
      ]
    },
    {
      "cell_type": "markdown",
      "source": [
        "Step 7: Make Predictions\n",
        "\n",
        "\n",
        "Markdown explanation :\n",
        "\n",
        "After evaluating the model performence, we need to make predictions and save the submission csv file to evaluate."
      ],
      "metadata": {
        "id": "OSoa-jBgJwHm"
      }
    },
    {
      "cell_type": "code",
      "source": [
        "# Load the test dataset for prediction\n",
        "test_data = pd.read_csv('test.csv')\n",
        "\n",
        "# Make predictions\n",
        "predictions = model.predict(test_data)\n",
        "model.predict(X_test)\n",
        "# Print the predictions\n",
        "print(predictions)\n",
        "model.predict(X_test)\n"
      ],
      "metadata": {
        "colab": {
          "base_uri": "https://localhost:8080/"
        },
        "id": "FEA6AWuVKCc8",
        "outputId": "a013214b-943f-4b8f-8e9e-948ae132493d"
      },
      "execution_count": 36,
      "outputs": [
        {
          "output_type": "stream",
          "name": "stdout",
          "text": [
            "3632/3632 [==============================] - 4s 1ms/step\n",
            "2906/2906 [==============================] - 4s 1ms/step\n",
            "[[0.         0.         0.         ... 0.         0.         0.99999994]\n",
            " [0.         0.         0.         ... 0.         0.         0.99999994]\n",
            " [0.         0.         0.         ... 0.         0.         0.99999994]\n",
            " ...\n",
            " [0.         0.         0.         ... 0.         0.         1.        ]\n",
            " [1.         0.         0.         ... 0.         0.         0.        ]\n",
            " [0.         0.         0.         ... 0.         0.         1.        ]]\n",
            "2906/2906 [==============================] - 4s 1ms/step\n"
          ]
        },
        {
          "output_type": "execute_result",
          "data": {
            "text/plain": [
              "array([[9.96909618e-01, 3.09035880e-03, 1.96503891e-24, ...,\n",
              "        4.35352782e-10, 3.52937915e-23, 1.94800069e-08],\n",
              "       [8.70249629e-01, 1.05580859e-01, 4.82500914e-11, ...,\n",
              "        8.88109116e-06, 4.68750327e-09, 2.41606589e-02],\n",
              "       [9.74936306e-01, 2.49061529e-02, 7.12680475e-08, ...,\n",
              "        1.15053066e-04, 4.71163517e-08, 4.24606915e-05],\n",
              "       ...,\n",
              "       [4.94188331e-02, 9.50455010e-01, 2.81035398e-07, ...,\n",
              "        7.81417748e-06, 1.18304910e-09, 1.18057134e-04],\n",
              "       [8.79946185e-07, 1.07758224e-03, 8.14425290e-01, ...,\n",
              "        5.70610155e-06, 1.83330849e-01, 1.45452758e-27],\n",
              "       [3.68247479e-02, 9.61248159e-01, 1.51358279e-06, ...,\n",
              "        1.90841570e-03, 9.24403764e-07, 1.62355154e-05]], dtype=float32)"
            ]
          },
          "metadata": {},
          "execution_count": 36
        }
      ]
    },
    {
      "cell_type": "markdown",
      "source": [
        "Step 8 generating submission file."
      ],
      "metadata": {
        "id": "sHW3cxKSzftm"
      }
    },
    {
      "cell_type": "code",
      "source": [
        "import pandas as pd\n",
        "from google.colab import drive\n",
        "\n",
        "# Load the test dataset\n",
        "test_data = pd.read_csv('test.csv')\n",
        "\n",
        "predictions = model.predict(test_data)\n",
        "predictions = predictions.argmax(axis=1)  # Convert softmax outputs to class labels\n",
        "\n",
        "# Create a DataFrame for the predictions\n",
        "submission = pd.DataFrame({'ID': range(1, len(predictions) + 1), 'Predicted_Target': predictions})\n",
        "\n",
        "# Option 1: Save to current working directory in Colab\n",
        "submission.to_csv('submission.csv', index=False)\n",
        "\n",
        "# Option 2: Save to Google Drive\n",
        "# First, mount Google Drive\n",
        "drive.mount('/content/drive')\n",
        "\n",
        "# Specify the path in Google Drive where you want to save the file\n",
        "# Ensure the path exists or create it manually in your Google Drive\n",
        "file_path = '/content/drive/My Drive/Colab Notebooks/submission.csv'\n",
        "\n",
        "# Save the submission file to the specified Google Drive path\n",
        "submission.to_csv(file_path, index=False)\n",
        "\n",
        "# Print a message to confirm file has been saved\n",
        "print(f'File has been saved to: {file_path}')\n"
      ],
      "metadata": {
        "colab": {
          "base_uri": "https://localhost:8080/"
        },
        "id": "2RY-veXAzdcS",
        "outputId": "531e6de8-5405-4f2d-aab7-dcfea3d38f76"
      },
      "execution_count": 37,
      "outputs": [
        {
          "output_type": "stream",
          "name": "stdout",
          "text": [
            "3632/3632 [==============================] - 7s 2ms/step\n",
            "Drive already mounted at /content/drive; to attempt to forcibly remount, call drive.mount(\"/content/drive\", force_remount=True).\n",
            "File has been saved to: /content/drive/My Drive/Colab Notebooks/submission.csv\n"
          ]
        }
      ]
    }
  ]
}